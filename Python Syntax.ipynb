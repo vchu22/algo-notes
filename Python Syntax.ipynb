{
 "cells": [
  {
   "cell_type": "markdown",
   "metadata": {},
   "source": [
    "# Python Syntax\n",
    "\n",
    "* [Classes](#classes)\n",
    "* [Data Structures](#data-structures)\n",
    "* [Functions](#functions)\n",
    "* [Functional Programming](#functional-programming)"
   ]
  },
  {
   "cell_type": "markdown",
   "metadata": {},
   "source": [
    "## Classes <a class=\"anchor\" id=\"classes\"></a>\n",
    "\n",
    "### Python Class Access Modifiers\n",
    "- Public members: can be directly accessed outside the class. A public attribute name should start with a uppercase or lowercase letter.\n",
    "- Protected members: can be accessed within the class and its sub-classes. To create a protected attribute in Python, name the attribute with one \"_\" before the first letter\n",
    "- Private members: onlly accessible to the class. To define a private attribute in Python, name the attribute with \"__\" before the first letter"
   ]
  },
  {
   "cell_type": "code",
   "execution_count": 2,
   "metadata": {
    "scrolled": true
   },
   "outputs": [
    {
     "name": "stdout",
     "output_type": "stream",
     "text": [
      "John Dow 32\n",
      "Mary Dow 32\n",
      "Cannot access private attributes\n"
     ]
    }
   ],
   "source": [
    "## Public example\n",
    "class Person:\n",
    "    def __init__(self, name, age):\n",
    "        self.name = name # public attribute \n",
    "        self.age = age # public attribute\n",
    "p = Person(\"John Dow\", 32) \n",
    "try:\n",
    "    print(p.name, p.age) # should print\n",
    "except AttributeError:\n",
    "    print(\"Cannot access public attributes\")\n",
    "\n",
    "## Protected example\n",
    "class Person:\n",
    "    def __init__(self, name, age):\n",
    "        self._name = name # private attribute \n",
    "        self._age = age # private attribute \n",
    "p = Person(\"Mary Dow\", 32)\n",
    "try:\n",
    "    print(p._name, p._age) # will print but best to avoid writing like this\n",
    "except AttributeError:\n",
    "    print(\"Cannot access protected attributes\")\n",
    "\n",
    "## Private example\n",
    "class Person:\n",
    "    def __init__(self, name, age):\n",
    "        self.__name = name # private attribute \n",
    "        self.__age = age # private attribute \n",
    "p = Person(\"Daniel Dow\", 32)\n",
    "try:\n",
    "    print(p.__name, p.__age) # should fail\n",
    "except AttributeError:\n",
    "    print(\"Cannot access private attributes\")"
   ]
  },
  {
   "cell_type": "markdown",
   "metadata": {},
   "source": [
    "### Calling super() in Python 3"
   ]
  },
  {
   "cell_type": "code",
   "execution_count": 2,
   "metadata": {},
   "outputs": [
    {
     "name": "stdout",
     "output_type": "stream",
     "text": [
      "American\n"
     ]
    }
   ],
   "source": [
    "class Person(object):\n",
    "    def __init__(self, name, nationality):\n",
    "        self.name = name\n",
    "        self.nationality = nationality\n",
    "\n",
    "class American(Person):\n",
    "    def __init__(self, name):\n",
    "        super().__init__(name, 'American')\n",
    "\n",
    "t = American(\"Tom\")\n",
    "print(t.nationality)"
   ]
  },
  {
   "cell_type": "markdown",
   "metadata": {},
   "source": [
    "### Inner Class/Nested Class "
   ]
  },
  {
   "cell_type": "code",
   "execution_count": 35,
   "metadata": {},
   "outputs": [
    {
     "name": "stdout",
     "output_type": "stream",
     "text": [
      "Jenny\n",
      "yellow\n",
      "Clothes class is not in this scope\n",
      "Clothes instantiated <__main__.Person.Clothes object at 0x7f3c4c3f6978>\n",
      "Clothes instantiated <__main__.Person.Clothes object at 0x7f3c4c3f0400>\n"
     ]
    }
   ],
   "source": [
    "class Person:\n",
    "    def __init__(self, name, cloth_type, color):\n",
    "        self.name = name\n",
    "        self.wearing = self.Clothes(cloth_type, color)\n",
    "    \n",
    "    class Clothes:\n",
    "        def __init__(self, cloth_type, color):\n",
    "            self.type = cloth_type\n",
    "            self.color = color\n",
    "\n",
    "jenny = Person('Jenny', 'dress', 'yellow')\n",
    "print(jenny.name)\n",
    "print(jenny.wearing.color)\n",
    "\n",
    "# need to access the class or object in order to use the inner class\n",
    "try:\n",
    "    c = Clothes('dress', 'yellow')\n",
    "    print(\"Clothes instantiated\", c)\n",
    "except Exception:\n",
    "    print(\"Clothes class is not in this scope\")\n",
    "\n",
    "try:\n",
    "    c = Person.Clothes('dress', 'yellow')\n",
    "    print(\"Clothes instantiated\", c)\n",
    "except Exception:\n",
    "    print(\"Clothes class is not in this scope\")\n",
    "\n",
    "try:\n",
    "    c = jenny.Clothes('dress', 'yellow')\n",
    "    print(\"Clothes instantiated\", c)\n",
    "except Exception:\n",
    "    print(\"Clothes class is not in this scope\")"
   ]
  },
  {
   "cell_type": "markdown",
   "metadata": {},
   "source": [
    "## Data Structures <a class=\"anchor\" id=\"data-structures\"></a>\n",
    "\n",
    "### Collections data types\n",
    "- list\n",
    "- tuple\n",
    "- dictionary\n",
    "- set"
   ]
  },
  {
   "cell_type": "code",
   "execution_count": 36,
   "metadata": {},
   "outputs": [
    {
     "name": "stdout",
     "output_type": "stream",
     "text": [
      "iterate list\n",
      "1\n",
      "2\n",
      "3\n",
      "4\n",
      "5\n",
      "\n",
      "iterate tuple\n",
      "1\n",
      "2\n",
      "3\n",
      "4\n",
      "5\n",
      "\n",
      "iterate dict\n",
      "key: a , value: A\n",
      "key: b , value: B\n",
      "key: c , value: C\n",
      "\n",
      "iterate set\n",
      "1\n",
      "2\n",
      "4\n",
      "5\n"
     ]
    }
   ],
   "source": [
    "l = [1,2,3,4,5]\n",
    "print(\"iterate list\")\n",
    "for i in l:\n",
    "    print(i)\n",
    "\n",
    "t = (1,2,3,4,5)\n",
    "print(\"\\niterate tuple\")\n",
    "for i in t:\n",
    "    print(i)\n",
    "\n",
    "d = {'a': 'A', 'b': 'B', 'c': 'C'}\n",
    "print(\"\\niterate dict\")\n",
    "for key, val in d.items():\n",
    "    print('key:',key, \", value:\", val)\n",
    "\n",
    "s = {1, 2, 5, 4}\n",
    "print(\"\\niterate set\")\n",
    "for i in s:\n",
    "    print(i)"
   ]
  },
  {
   "cell_type": "markdown",
   "metadata": {},
   "source": [
    "### List Comprehensions\n",
    "A more concise way to create lists using brackets with an expression and a for clause inside."
   ]
  },
  {
   "cell_type": "code",
   "execution_count": 16,
   "metadata": {},
   "outputs": [
    {
     "name": "stdout",
     "output_type": "stream",
     "text": [
      "[0, 2, 4, 6, 8, 10, 12, 14, 16, 18]\n",
      "[1, 7, 13, 19]\n"
     ]
    }
   ],
   "source": [
    "l1 = [num for num in range(0, 20, 2)]\n",
    "print(l1)\n",
    "l2 = [num + 1 for num in range(0, 20, 2) if num%3 == 0]\n",
    "print(l2)"
   ]
  },
  {
   "cell_type": "markdown",
   "metadata": {},
   "source": [
    "### Set Comprehensions"
   ]
  },
  {
   "cell_type": "code",
   "execution_count": 15,
   "metadata": {},
   "outputs": [
    {
     "name": "stdout",
     "output_type": "stream",
     "text": [
      "{2, 4, 6, 8, 10, 12, 14, 16, 18, 20}\n",
      "{18, 12, 6}\n"
     ]
    }
   ],
   "source": [
    "s1 = {num for num in range(20, 0, -2)}\n",
    "print(s1)\n",
    "s2 = {num for num in range(20, 0, -2) if num%3 == 0}\n",
    "print(s2)"
   ]
  },
  {
   "cell_type": "markdown",
   "metadata": {},
   "source": [
    "### Dictionary Comprehensions"
   ]
  },
  {
   "cell_type": "code",
   "execution_count": 13,
   "metadata": {},
   "outputs": [
    {
     "name": "stdout",
     "output_type": "stream",
     "text": [
      "{'Apple': 12.0, 'Orange': 7.5, 'Banana': 6.0, 'Celery': 4.0, 'Fish': 10.0}\n",
      "{'Apple': 12.0, 'Orange': 7.5, 'Banana': 6.0}\n"
     ]
    }
   ],
   "source": [
    "grocery = {\n",
    "    'apple': (1.2, 10),\n",
    "    'orange': (1.5, 5),\n",
    "    'banana': (2, 3),\n",
    "    'celery': (0.8, 5),\n",
    "    'fish': (2.5, 4)\n",
    "}\n",
    "costs = {\n",
    "    item.capitalize() : float(priceqty[0] * priceqty[1])\n",
    "    for item, priceqty in grocery.items()\n",
    "}\n",
    "print(costs)\n",
    "\n",
    "fruits = ['apple','orange','banana']\n",
    "fruits_total = {\n",
    "    item.capitalize() : float(priceqty[0] * priceqty[1])\n",
    "    for item, priceqty in grocery.items()\n",
    "    if item in fruits\n",
    "}\n",
    "print(fruits_total)"
   ]
  },
  {
   "cell_type": "markdown",
   "metadata": {},
   "source": [
    "### Generators\n",
    "Best used when you only need to iterate the values once.\n",
    "\n",
    "_yield_ keyword must be inside a function"
   ]
  },
  {
   "cell_type": "code",
   "execution_count": 1,
   "metadata": {},
   "outputs": [
    {
     "name": "stdout",
     "output_type": "stream",
     "text": [
      "1\n",
      "2\n",
      "3\n",
      "[]\n"
     ]
    }
   ],
   "source": [
    "def gen_nums(): # a generator function\n",
    "    yield 1         # yield puts the value \n",
    "    yield 2\n",
    "    yield 3\n",
    "\n",
    "nums = gen_nums() # returns a generator object\n",
    "for num in nums:\n",
    "    print(num)\n",
    "print(list(nums))"
   ]
  },
  {
   "cell_type": "markdown",
   "metadata": {},
   "source": [
    "### Itertools"
   ]
  },
  {
   "cell_type": "code",
   "execution_count": 34,
   "metadata": {},
   "outputs": [
    {
     "name": "stdout",
     "output_type": "stream",
     "text": [
      "Spring\n",
      "Summer\n",
      "Fall\n",
      "Winter\n",
      "Spring\n",
      "Summer\n"
     ]
    }
   ],
   "source": [
    "import itertools\n",
    "seasons = ['Spring','Summer','Fall','Winter']\n",
    "seasons_iter = itertools.cycle(seasons)\n",
    "for i in range(6):\n",
    "    print(next(seasons_iter))"
   ]
  },
  {
   "cell_type": "code",
   "execution_count": 10,
   "metadata": {},
   "outputs": [
    {
     "name": "stdout",
     "output_type": "stream",
     "text": [
      "100\n",
      "110\n",
      "120\n"
     ]
    }
   ],
   "source": [
    "count1 = itertools.count(100,10)\n",
    "for i in range(3):\n",
    "    print(next(count1))"
   ]
  },
  {
   "cell_type": "code",
   "execution_count": 18,
   "metadata": {},
   "outputs": [
    {
     "name": "stdout",
     "output_type": "stream",
     "text": [
      "[1, 3, 6, 10, 15, 17]\n",
      "[1, 2, 3, 4, 5, 5]\n"
     ]
    }
   ],
   "source": [
    "vals = [1,2,3,4,5,2]\n",
    "# sum up from previous values\n",
    "accum = itertools.accumulate(vals)\n",
    "print(list(accum))\n",
    "\n",
    "# stop at max\n",
    "accum = itertools.accumulate(vals, max)\n",
    "print(list(accum))"
   ]
  },
  {
   "cell_type": "code",
   "execution_count": 24,
   "metadata": {},
   "outputs": [
    {
     "name": "stdout",
     "output_type": "stream",
     "text": [
      "['A', 'B', '1', '2', '3']\n"
     ]
    }
   ],
   "source": [
    "seq = itertools.chain(\"AB\",\"123\")\n",
    "print(list(seq))"
   ]
  },
  {
   "cell_type": "code",
   "execution_count": 33,
   "metadata": {},
   "outputs": [
    {
     "name": "stdout",
     "output_type": "stream",
     "text": [
      "[40, 30, 40, 50, 20]\n",
      "[10, 20]\n"
     ]
    }
   ],
   "source": [
    "nums = [10,20,40,30,40,50,20]\n",
    "\n",
    "def cond(num):\n",
    "    return num < 40\n",
    "\n",
    "# dropwhile starts at the element that doesn't meet the condition\n",
    "print(list(itertools.dropwhile(cond, nums)))\n",
    "# takewhile ends at the element that doesn't meet the condition\n",
    "print(list(itertools.takewhile(cond, nums)))"
   ]
  },
  {
   "cell_type": "markdown",
   "metadata": {},
   "source": [
    "## Functions <a class=\"anchor\" id=\"functions\"></a>\n",
    "### Non-keyworded, variable-length arguments"
   ]
  },
  {
   "cell_type": "code",
   "execution_count": 19,
   "metadata": {},
   "outputs": [
    {
     "name": "stdout",
     "output_type": "stream",
     "text": [
      "Hi,  John\n",
      "You have  ('laptop', 'backpack', 'notebook')\n",
      "Item  0 :  laptop\n",
      "Item  1 :  backpack\n",
      "Item  2 :  notebook\n"
     ]
    }
   ],
   "source": [
    "# receives arguments as a tuple\n",
    "def f(name, *args):\n",
    "    print(\"Hi, \", name)\n",
    "    print(\"You have \", args)\n",
    "    for idx, item in enumerate(args):\n",
    "        print(\"Item \", idx, \": \",item)\n",
    "    \n",
    "f(\"John\", \"laptop\", \"backpack\", \"notebook\")"
   ]
  },
  {
   "cell_type": "markdown",
   "metadata": {},
   "source": [
    "### Named variable-length arguments"
   ]
  },
  {
   "cell_type": "code",
   "execution_count": 16,
   "metadata": {},
   "outputs": [
    {
     "name": "stdout",
     "output_type": "stream",
     "text": [
      "Hi,  John\n",
      "Your info is  {'School': 'Orange High School', 'Year': 'Senior', 'GPA': 3.4}\n",
      "School :  Orange High School\n",
      "Year :  Senior\n",
      "GPA :  3.4\n"
     ]
    }
   ],
   "source": [
    "# receives arguments as a dictionary\n",
    "def f(name, **kwargs):\n",
    "    print(\"Hi, \", name)\n",
    "    print(\"Your info is \", kwargs)\n",
    "    for key, val in kwargs.items():\n",
    "        print(key,\": \", val)\n",
    "    \n",
    "f(\"John\", School=\"Orange High School\", Year=\"Senior\", GPA=3.4)"
   ]
  },
  {
   "cell_type": "markdown",
   "metadata": {},
   "source": [
    "### Decorators\n",
    "A higher-order function, a function that takes in at least one function as arguement(s)."
   ]
  },
  {
   "cell_type": "code",
   "execution_count": 35,
   "metadata": {},
   "outputs": [
    {
     "name": "stdout",
     "output_type": "stream",
     "text": [
      "8\n",
      "512\n",
      "134217728\n"
     ]
    }
   ],
   "source": [
    "# without decorator\n",
    "def dec_func(func):\n",
    "    x = 2\n",
    "    def wrapper_func():\n",
    "        nonlocal x\n",
    "        x = func(x)\n",
    "        return x\n",
    "    return wrapper_func\n",
    "\n",
    "def cube(num):\n",
    "    return num ** 3\n",
    "\n",
    "dec_cube = dec_func(cube)\n",
    "print(dec_cube())\n",
    "print(dec_cube())\n",
    "print(dec_cube())"
   ]
  },
  {
   "cell_type": "code",
   "execution_count": 34,
   "metadata": {
    "scrolled": false
   },
   "outputs": [
    {
     "name": "stdout",
     "output_type": "stream",
     "text": [
      "8\n",
      "512\n",
      "134217728\n"
     ]
    }
   ],
   "source": [
    "# with decorator\n",
    "dec_func(func):\n",
    "    x = 2\n",
    "    def wrapper_func():\n",
    "        nonlocal x\n",
    "        x = func(x)\n",
    "        return x\n",
    "    return wrapper_func\n",
    "\n",
    "@dec_func\n",
    "def cube(num):\n",
    "    return num ** 3\n",
    "\n",
    "print(cube())\n",
    "print(cube())\n",
    "print(cube())"
   ]
  },
  {
   "cell_type": "code",
   "execution_count": 2,
   "metadata": {},
   "outputs": [
    {
     "name": "stdout",
     "output_type": "stream",
     "text": [
      "16\n",
      "8192\n",
      "1099511627776\n"
     ]
    }
   ],
   "source": [
    "# allows decorated function takes in extra arguments on function calls\n",
    "def dec_func(func):\n",
    "    x = 2\n",
    "    def wrapper_func(*args, **kwargs):\n",
    "        nonlocal x\n",
    "        x = func(x, *args, **kwargs)\n",
    "        return x\n",
    "    return wrapper_func\n",
    "\n",
    "@dec_func\n",
    "def cube(num, num2):\n",
    "    return num ** 3 *num2\n",
    "\n",
    "print(cube(2))\n",
    "print(cube(2))\n",
    "print(cube(2))"
   ]
  },
  {
   "cell_type": "markdown",
   "metadata": {},
   "source": [
    "### Keyword-Only Arguments\n",
    "Passing value to a parameter will require calling by its keyword rather by its position. This can be done by adding \"* ,\" before that parameter you want to set as keyword-only."
   ]
  },
  {
   "cell_type": "code",
   "execution_count": 4,
   "metadata": {},
   "outputs": [
    {
     "name": "stdout",
     "output_type": "stream",
     "text": [
      "Has to call the arg3 keyword\n",
      "abc\n"
     ]
    }
   ],
   "source": [
    "def func(arg1, arg2, *, arg3=\"\"):\n",
    "    return arg1 + arg2 + arg3\n",
    "\n",
    "try:\n",
    "    print(func(\"a\", \"b\", \"c\"))\n",
    "except TypeError:\n",
    "    print(\"Has to call the arg3 keyword\")\n",
    "\n",
    "print(func(\"a\", \"b\", arg3=\"c\"))"
   ]
  },
  {
   "cell_type": "markdown",
   "metadata": {},
   "source": [
    "## Functional Programming <a class=\"anchor\" id=\"functional-programming\"></a>"
   ]
  },
  {
   "cell_type": "markdown",
   "metadata": {},
   "source": [
    "### Map"
   ]
  },
  {
   "cell_type": "code",
   "execution_count": 13,
   "metadata": {},
   "outputs": [
    {
     "name": "stdout",
     "output_type": "stream",
     "text": [
      "[1, 4, 9, 16]\n"
     ]
    }
   ],
   "source": [
    "nums = [1,2,3,4]\n",
    "squared = list(map((lambda x: x**2),nums))\n",
    "print(squared)"
   ]
  },
  {
   "cell_type": "markdown",
   "metadata": {},
   "source": [
    "### Filter"
   ]
  },
  {
   "cell_type": "code",
   "execution_count": 14,
   "metadata": {},
   "outputs": [
    {
     "name": "stdout",
     "output_type": "stream",
     "text": [
      "[2, 3, 1, 8]\n"
     ]
    }
   ],
   "source": [
    "nums = [-5,-3,2,3,1,-0,8]\n",
    "postives = list(filter((lambda x: x > 0), nums))\n",
    "print(postives)"
   ]
  },
  {
   "cell_type": "markdown",
   "metadata": {},
   "source": [
    "### Reduce"
   ]
  },
  {
   "cell_type": "code",
   "execution_count": 1,
   "metadata": {},
   "outputs": [
    {
     "name": "stdout",
     "output_type": "stream",
     "text": [
      "7\n"
     ]
    }
   ],
   "source": [
    "from functools import reduce\n",
    "arrSum = reduce((lambda accum, curr: accum + curr), [1,2,3,1])\n",
    "print(arrSum)"
   ]
  }
 ],
 "metadata": {
  "kernelspec": {
   "display_name": "Python 3",
   "language": "python",
   "name": "python3"
  },
  "language_info": {
   "codemirror_mode": {
    "name": "ipython",
    "version": 3
   },
   "file_extension": ".py",
   "mimetype": "text/x-python",
   "name": "python",
   "nbconvert_exporter": "python",
   "pygments_lexer": "ipython3",
   "version": "3.7.4"
  }
 },
 "nbformat": 4,
 "nbformat_minor": 2
}
