{
 "cells": [
  {
   "cell_type": "markdown",
   "metadata": {},
   "source": [
    "## Collections data types\n",
    "- list\n",
    "- tuple\n",
    "- dictionary\n",
    "- set"
   ]
  },
  {
   "cell_type": "code",
   "execution_count": 36,
   "metadata": {},
   "outputs": [
    {
     "name": "stdout",
     "output_type": "stream",
     "text": [
      "iterate list\n",
      "1\n",
      "2\n",
      "3\n",
      "4\n",
      "5\n",
      "\n",
      "iterate tuple\n",
      "1\n",
      "2\n",
      "3\n",
      "4\n",
      "5\n",
      "\n",
      "iterate dict\n",
      "key: a , value: A\n",
      "key: b , value: B\n",
      "key: c , value: C\n",
      "\n",
      "iterate set\n",
      "1\n",
      "2\n",
      "4\n",
      "5\n"
     ]
    }
   ],
   "source": [
    "l = [1,2,3,4,5]\n",
    "print(\"iterate list\")\n",
    "for i in l:\n",
    "    print(i)\n",
    "\n",
    "t = (1,2,3,4,5)\n",
    "print(\"\\niterate tuple\")\n",
    "for i in t:\n",
    "    print(i)\n",
    "\n",
    "d = {'a': 'A', 'b': 'B', 'c': 'C'}\n",
    "print(\"\\niterate dict\")\n",
    "for key, val in d.items():\n",
    "    print('key:',key, \", value:\", val)\n",
    "\n",
    "s = {1, 2, 5, 4}\n",
    "print(\"\\niterate set\")\n",
    "for i in s:\n",
    "    print(i)"
   ]
  },
  {
   "cell_type": "markdown",
   "metadata": {},
   "source": [
    "## Python Class Access Modifiers\n",
    "- Public members: can be directly accessed outside the class. A public attribute name should start with a uppercase or lowercase letter.\n",
    "- Protected members: can be accessed within the class and its sub-classes. To create a protected attribute in Python, name the attribute with one \"_\" before the first letter\n",
    "- Private members: onlly accessible to the class. To define a private attribute in Python, name the attribute with \"__\" before the first letter"
   ]
  },
  {
   "cell_type": "code",
   "execution_count": 37,
   "metadata": {
    "scrolled": true
   },
   "outputs": [
    {
     "name": "stdout",
     "output_type": "stream",
     "text": [
      "John Dow 32\n",
      "Mary Dow 32\n",
      "Cannot access private attributes\n"
     ]
    }
   ],
   "source": [
    "## Public example\n",
    "class Person:\n",
    "    def __init__(self, name, age):\n",
    "        self.name = name # public attribute \n",
    "        self.age = age # public attribute\n",
    "p = Person(\"John Dow\", 32) \n",
    "try:\n",
    "    print(p.name, p.age) # should print\n",
    "except AttributeError:\n",
    "    print(\"Cannot access public attributes\")\n",
    "\n",
    "## Protected example\n",
    "class Person:\n",
    "    def __init__(self, name, age):\n",
    "        self._name = name # private attribute \n",
    "        self._age = age # private attribute \n",
    "p = Person(\"Mary Dow\", 32)\n",
    "try:\n",
    "    print(p._name, p._age) # will print but best to avoid writing like this\n",
    "except AttributeError:\n",
    "    print(\"Cannot access protected attributes\")\n",
    "\n",
    "## Private example\n",
    "class Person:\n",
    "    def __init__(self, name, age):\n",
    "        self.__name = name # private attribute \n",
    "        self.__age = age # private attribute \n",
    "p = Person(\"Daniel Dow\", 32)\n",
    "try:\n",
    "    print(p.__name, p.__age) # should fail\n",
    "except AttributeError:\n",
    "    print(\"Cannot access private attributes\")"
   ]
  },
  {
   "cell_type": "markdown",
   "metadata": {},
   "source": [
    "## List Comprehensions\n",
    "A more concise way to create lists using brackets with an expression and a for clause inside."
   ]
  },
  {
   "cell_type": "code",
   "execution_count": 77,
   "metadata": {},
   "outputs": [
    {
     "name": "stdout",
     "output_type": "stream",
     "text": [
      "[0, 2, 4, 6, 8, 10, 12, 14, 16, 18]\n",
      "[1, 7, 13, 19]\n"
     ]
    }
   ],
   "source": [
    "l1 = [num for num in range(0, 20, 2)]\n",
    "print(l1)\n",
    "l2 = [num + 1 for num in range(0, 20, 2) if num%3 == 0]\n",
    "print(l2)"
   ]
  },
  {
   "cell_type": "markdown",
   "metadata": {},
   "source": [
    "## Decorators\n",
    "A higher-order function, a function that takes in at least one function as arguement(s)."
   ]
  },
  {
   "cell_type": "code",
   "execution_count": 35,
   "metadata": {},
   "outputs": [
    {
     "name": "stdout",
     "output_type": "stream",
     "text": [
      "8\n",
      "512\n",
      "134217728\n"
     ]
    }
   ],
   "source": [
    "# without decorator\n",
    "def dec_func(func):\n",
    "    x = 2\n",
    "    def wrapper_func():\n",
    "        nonlocal x\n",
    "        x = func(x)\n",
    "        return x\n",
    "    return wrapper_func\n",
    "\n",
    "def cube(num):\n",
    "    return num ** 3\n",
    "\n",
    "dec_cube = dec_func(cube)\n",
    "print(dec_cube())\n",
    "print(dec_cube())\n",
    "print(dec_cube())"
   ]
  },
  {
   "cell_type": "code",
   "execution_count": 34,
   "metadata": {
    "scrolled": false
   },
   "outputs": [
    {
     "name": "stdout",
     "output_type": "stream",
     "text": [
      "8\n",
      "512\n",
      "134217728\n"
     ]
    }
   ],
   "source": [
    "# with decorator\n",
    "dec_func(func):\n",
    "    x = 2\n",
    "    def wrapper_func():\n",
    "        nonlocal x\n",
    "        x = func(x)\n",
    "        return x\n",
    "    return wrapper_func\n",
    "\n",
    "@dec_func\n",
    "def cube(num):\n",
    "    return num ** 3\n",
    "\n",
    "print(cube())\n",
    "print(cube())\n",
    "print(cube())"
   ]
  },
  {
   "cell_type": "code",
   "execution_count": 48,
   "metadata": {},
   "outputs": [
    {
     "name": "stdout",
     "output_type": "stream",
     "text": [
      "16\n",
      "8192\n",
      "1099511627776\n"
     ]
    }
   ],
   "source": [
    "# allows decorated function takes in extra arguments on function calls\n",
    "def dec_func(func):\n",
    "    x = 2\n",
    "    def wrapper_func(*args, **kwargs):\n",
    "        nonlocal x\n",
    "        x = func(x, *args, **kwargs)\n",
    "        return x\n",
    "    return wrapper_func\n",
    "\n",
    "@dec_func\n",
    "def cube(num, num2):\n",
    "    return num ** 3 *num2\n",
    "\n",
    "print(cube(2))\n",
    "print(cube(2))\n",
    "print(cube(2))"
   ]
  }
 ],
 "metadata": {
  "kernelspec": {
   "display_name": "Python 3",
   "language": "python",
   "name": "python3"
  },
  "language_info": {
   "codemirror_mode": {
    "name": "ipython",
    "version": 3
   },
   "file_extension": ".py",
   "mimetype": "text/x-python",
   "name": "python",
   "nbconvert_exporter": "python",
   "pygments_lexer": "ipython3",
   "version": "3.7.3"
  }
 },
 "nbformat": 4,
 "nbformat_minor": 2
}
