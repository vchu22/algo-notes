{
 "cells": [
  {
   "cell_type": "markdown",
   "metadata": {},
   "source": [
    "## Collections data types\n",
    "- list\n",
    "- tuple\n",
    "- dictionary\n",
    "- set"
   ]
  },
  {
   "cell_type": "code",
   "execution_count": 65,
   "metadata": {},
   "outputs": [
    {
     "name": "stdout",
     "output_type": "stream",
     "text": [
      "iterate list\n",
      "1\n",
      "2\n",
      "3\n",
      "4\n",
      "5\n",
      "\n",
      "iterate tuple\n",
      "1\n",
      "2\n",
      "3\n",
      "4\n",
      "5\n",
      "\n",
      "iterate dict\n",
      "key: a , value: A\n",
      "key: b , value: B\n",
      "key: c , value: C\n",
      "\n",
      "iterate set\n",
      "1\n",
      "2\n",
      "4\n",
      "5\n"
     ]
    }
   ],
   "source": [
    "l = [1,2,3,4,5]\n",
    "print(\"iterate list\")\n",
    "for i in l:\n",
    "    print(i)\n",
    "\n",
    "t = (1,2,3,4,5)\n",
    "print(\"\\niterate tuple\")\n",
    "for i in t:\n",
    "    print(i)\n",
    "\n",
    "d = {'a': 'A', 'b': 'B', 'c': 'C'}\n",
    "print(\"\\niterate dict\")\n",
    "for key, val in d.items():\n",
    "    print('key:',key, \", value:\", val)\n",
    "\n",
    "s = {1, 2, 5, 4}\n",
    "print(\"\\niterate set\")\n",
    "for i in s:\n",
    "    print(i)"
   ]
  },
  {
   "cell_type": "markdown",
   "metadata": {},
   "source": [
    "## Python Class Access Modifiers\n",
    "- Public members: can be directly accessed outside the class. A public attribute name should start with a uppercase or lowercase letter.\n",
    "- Protected members: can be accessed within the class and its sub-classes. To create a protected attribute in Python, name the attribute with one \"_\" before the first letter\n",
    "- Private members: onlly accessible to the class. To define a private attribute in Python, name the attribute with \"__\" before the first letter"
   ]
  },
  {
   "cell_type": "code",
   "execution_count": 75,
   "metadata": {
    "scrolled": true
   },
   "outputs": [
    {
     "name": "stdout",
     "output_type": "stream",
     "text": [
      "John Dow 32\n",
      "Mary Dow 32\n"
     ]
    },
    {
     "ename": "AttributeError",
     "evalue": "'Person' object has no attribute '__name'",
     "output_type": "error",
     "traceback": [
      "\u001b[0;31m---------------------------------------------------------------------------\u001b[0m",
      "\u001b[0;31mAttributeError\u001b[0m                            Traceback (most recent call last)",
      "\u001b[0;32m<ipython-input-75-dd466249e9dd>\u001b[0m in \u001b[0;36m<module>\u001b[0;34m\u001b[0m\n\u001b[1;32m     18\u001b[0m         \u001b[0mself\u001b[0m\u001b[0;34m.\u001b[0m\u001b[0m__age\u001b[0m \u001b[0;34m=\u001b[0m \u001b[0mage\u001b[0m \u001b[0;31m# private attribute\u001b[0m\u001b[0;34m\u001b[0m\u001b[0;34m\u001b[0m\u001b[0m\n\u001b[1;32m     19\u001b[0m \u001b[0mp\u001b[0m \u001b[0;34m=\u001b[0m \u001b[0mPerson\u001b[0m\u001b[0;34m(\u001b[0m\u001b[0;34m\"Daniel Dow\"\u001b[0m\u001b[0;34m,\u001b[0m \u001b[0;36m32\u001b[0m\u001b[0;34m)\u001b[0m\u001b[0;34m\u001b[0m\u001b[0;34m\u001b[0m\u001b[0m\n\u001b[0;32m---> 20\u001b[0;31m \u001b[0mprint\u001b[0m\u001b[0;34m(\u001b[0m\u001b[0mp\u001b[0m\u001b[0;34m.\u001b[0m\u001b[0m__name\u001b[0m\u001b[0;34m,\u001b[0m \u001b[0mp\u001b[0m\u001b[0;34m.\u001b[0m\u001b[0m__age\u001b[0m\u001b[0;34m)\u001b[0m \u001b[0;31m# should fail\u001b[0m\u001b[0;34m\u001b[0m\u001b[0;34m\u001b[0m\u001b[0m\n\u001b[0m",
      "\u001b[0;31mAttributeError\u001b[0m: 'Person' object has no attribute '__name'"
     ]
    }
   ],
   "source": [
    "class Person:\n",
    "    def __init__(self, name, age):\n",
    "        self.name = name # public attribute \n",
    "        self.age = age # public attribute\n",
    "p = Person(\"John Dow\", 32) \n",
    "print(p.name, p.age) # will print\n",
    "\n",
    "class Person:\n",
    "    def __init__(self, name, age):\n",
    "        self._name = name # private attribute \n",
    "        self._age = age # private attribute \n",
    "p = Person(\"Mary Dow\", 32)\n",
    "print(p._name, p._age) # can still be accessed but should avoid\n",
    "\n",
    "class Person:\n",
    "    def __init__(self, name, age):\n",
    "        self.__name = name # private attribute \n",
    "        self.__age = age # private attribute \n",
    "p = Person(\"Daniel Dow\", 32) \n",
    "print(p.__name, p.__age) # should fail"
   ]
  },
  {
   "cell_type": "markdown",
   "metadata": {},
   "source": [
    "## List Comprehensions\n",
    "A more concise way to create lists using brackets with an expression and a for clause inside."
   ]
  },
  {
   "cell_type": "code",
   "execution_count": 76,
   "metadata": {},
   "outputs": [
    {
     "name": "stdout",
     "output_type": "stream",
     "text": [
      "[0, 2, 4, 6, 8, 10, 12, 14, 16, 18]\n",
      "[1, 7, 13, 19]\n"
     ]
    }
   ],
   "source": [
    "l1 = [i for i in range(0, 20, 2)]\n",
    "print(l1)\n",
    "l2 = [i + 1 for i in range(0, 20, 2) if i%3 == 0]\n",
    "print(l2)"
   ]
  }
 ],
 "metadata": {
  "kernelspec": {
   "display_name": "Python 3",
   "language": "python",
   "name": "python3"
  },
  "language_info": {
   "codemirror_mode": {
    "name": "ipython",
    "version": 3
   },
   "file_extension": ".py",
   "mimetype": "text/x-python",
   "name": "python",
   "nbconvert_exporter": "python",
   "pygments_lexer": "ipython3",
   "version": "3.7.3"
  }
 },
 "nbformat": 4,
 "nbformat_minor": 2
}
