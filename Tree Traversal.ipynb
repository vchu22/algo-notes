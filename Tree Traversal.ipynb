{
 "cells": [
  {
   "cell_type": "markdown",
   "metadata": {},
   "source": [
    "# Breadth First Search\n",
    "#### Steps:\n",
    "1. create a queue\n",
    "\n",
    "2. create a visited array\n",
    "\n",
    "3. push root node to queue\n",
    "\n",
    "4. As long as queue is not empty:\n",
    "\n",
    "    a. get the first element in queue and dequeue it\n",
    "    \n",
    "    b. push value to visited array\n",
    "    \n",
    "    c. push it's children to the queue"
   ]
  },
  {
   "cell_type": "code",
   "execution_count": 64,
   "metadata": {},
   "outputs": [
    {
     "name": "stdout",
     "output_type": "stream",
     "text": [
      "10\n",
      "6 12\n",
      "4 8 None 15\n",
      "10\n",
      "9 11\n",
      "8 None None None\n"
     ]
    }
   ],
   "source": [
    "# Tree\n",
    "class Node:\n",
    "    def __init__(self, val):\n",
    "        self.val = val\n",
    "        self.left = None\n",
    "        self.right = None\n",
    "    def __str__(self):\n",
    "        return f\"{self.val}\"\n",
    "\n",
    "class Tree:\n",
    "    def __init__(self, val):\n",
    "        self.root = Node(val)\n",
    "    \n",
    "    def insert(self, val):\n",
    "        currNode = self.root\n",
    "        inserted = False\n",
    "        while not inserted:\n",
    "            if val < currNode.val:\n",
    "                # go left\n",
    "                if currNode.left == None:\n",
    "                    currNode.left = Node(val)\n",
    "                    inserted = True\n",
    "                else:\n",
    "                    currNode = currNode.left\n",
    "            else:\n",
    "                # go right\n",
    "                if currNode.right == None:\n",
    "                    currNode.right = Node(val)\n",
    "                    inserted = True\n",
    "                else:\n",
    "                    currNode = currNode.right\n",
    "\n",
    "tree1 = Tree(10)\n",
    "tree1.insert(6)\n",
    "tree1.insert(12)\n",
    "tree1.insert(4)\n",
    "tree1.insert(8)\n",
    "tree1.insert(15)\n",
    "print(tree1.root)\n",
    "print(tree1.root.left, tree1.root.right)\n",
    "print(tree1.root.left.left, tree1.root.left.right, tree1.root.right.left, tree1.root.right.right)\n",
    "\n",
    "tree2 = Tree(10)\n",
    "tree2.insert(9)\n",
    "tree2.insert(11)\n",
    "tree2.insert(8)\n",
    "print(tree2.root)\n",
    "print(tree2.root.left, tree2.root.right)\n",
    "print(tree2.root.left.left, tree2.root.left.right, tree2.root.right.left, tree2.root.right.right)"
   ]
  },
  {
   "cell_type": "code",
   "execution_count": 55,
   "metadata": {},
   "outputs": [],
   "source": [
    "def BFS(tree):\n",
    "    queue = [tree.root]\n",
    "    visited = []\n",
    "    while len(queue):\n",
    "        currNode = queue.pop(0)\n",
    "        visited.append(currNode.val)\n",
    "        if currNode.left:\n",
    "            queue.append(currNode.left)\n",
    "        if currNode.right:\n",
    "            queue.append(currNode.right)\n",
    "    return visited"
   ]
  },
  {
   "cell_type": "code",
   "execution_count": 60,
   "metadata": {},
   "outputs": [
    {
     "name": "stdout",
     "output_type": "stream",
     "text": [
      "[10, 6, 12, 4, 8, 15]\n",
      "[10, 9, 11, 8]\n"
     ]
    }
   ],
   "source": [
    "# tests\n",
    "print(BFS(tree1)) # [10, 6, 12, 4, 8, 15]\n",
    "print(BFS(tree2)) # [10, 9, 11, 8]"
   ]
  },
  {
   "cell_type": "markdown",
   "metadata": {},
   "source": [
    "# Depth First Search\n",
    "### Pre-order\n",
    "Node value is rendered before visiting left and right children\n",
    "#### Steps:\n",
    "1. Create an array that stores all the visited nodes\n",
    "\n",
    "2. Create a variable to store the current node, initialize it to the root node first\n",
    "\n",
    "3. Create a helper function that follows these steps:\n",
    "\n",
    "    a. Takes in a node and `visited` array as argument\n",
    "    \n",
    "    b. Push the current node's value into the `visited` array\n",
    "    \n",
    "    c. If there is a left child, call the helper function with left child\n",
    "    \n",
    "    d. If there is a right child, call the helper function with right child\n",
    "    \n",
    "4. Make a call to this helper function"
   ]
  },
  {
   "cell_type": "code",
   "execution_count": 65,
   "metadata": {},
   "outputs": [],
   "source": [
    "def DFS_PreOrder(tree):\n",
    "    visited = []\n",
    "    currNode = tree.root\n",
    "    visit(currNode, visited)\n",
    "    return visited\n",
    "\n",
    "def visit(node, visited):\n",
    "    visited.append(node.val)\n",
    "    if node.left:\n",
    "        visit(node.left, visited)\n",
    "    if node.right:\n",
    "        visit(node.right, visited)"
   ]
  },
  {
   "cell_type": "code",
   "execution_count": 67,
   "metadata": {},
   "outputs": [
    {
     "name": "stdout",
     "output_type": "stream",
     "text": [
      "[10, 6, 4, 8, 12, 15]\n",
      "[10, 9, 8, 11]\n"
     ]
    }
   ],
   "source": [
    "print(DFS_PreOrder(tree1)) # [ 10, 6, 4, 8, 12, 15 ]\n",
    "print(DFS_PreOrder(tree2)) # [ 10, 9, 8, 11 ]"
   ]
  },
  {
   "cell_type": "markdown",
   "metadata": {},
   "source": [
    "### In-order\n",
    "Only render node value after visiting the left child or if left child does not exist\n",
    "#### Steps\n",
    "1. Create an array that stores all the visited nodes\n",
    "\n",
    "2. Create a variable to store the current node, initialize it to the root node first\n",
    "\n",
    "3. Create a helper function that follows these steps:\n",
    "\n",
    "    a. Takes in a node and `visited` array as argument\n",
    "    \n",
    "    b. If there is a left child, call the helper function with left child\n",
    "    \n",
    "    c. Push the current node's value into the `visited` array\n",
    "    \n",
    "    d. If there is a right child, call the helper function with right child\n",
    "    \n",
    "4. Make a call to this helper function"
   ]
  },
  {
   "cell_type": "code",
   "execution_count": 68,
   "metadata": {},
   "outputs": [],
   "source": [
    "def DFS_PreOrder(tree):\n",
    "    visited = []\n",
    "    currNode = tree.root\n",
    "    visit(currNode, visited)\n",
    "    return visited\n",
    "\n",
    "def visit(node, visited):\n",
    "    if node.left:\n",
    "        visit(node.left, visited)\n",
    "    visited.append(node.val)\n",
    "    if node.right:\n",
    "        visit(node.right, visited)"
   ]
  },
  {
   "cell_type": "code",
   "execution_count": 70,
   "metadata": {},
   "outputs": [
    {
     "name": "stdout",
     "output_type": "stream",
     "text": [
      "[4, 6, 8, 10, 12, 15]\n",
      "[8, 9, 10, 11]\n"
     ]
    }
   ],
   "source": [
    "print(DFS_PreOrder(tree1)) # [ 4, 6, 8, 10, 12, 15 ]\n",
    "print(DFS_PreOrder(tree2)) # [ 8, 9, 10, 11 ]"
   ]
  },
  {
   "cell_type": "markdown",
   "metadata": {},
   "source": [
    "### Post-order\n",
    "Only render node value after visiting both left and right children or if they do not exist\n",
    "#### Steps\n",
    "1. Create an array that stores all the visited nodes\n",
    "\n",
    "2. Create a variable to store the current node, initialize it to the root node first\n",
    "\n",
    "3. Create a helper function that follows these steps:\n",
    "\n",
    "    a. Takes in a node and `visited` array as argument\n",
    "    \n",
    "    b. If there is a left child, call the helper function with left child\n",
    "    \n",
    "    c. If there is a right child, call the helper function with right child\n",
    "    \n",
    "    d. Push the current node's value into the `visited` array\n",
    "    \n",
    "4. Make a call to this helper function"
   ]
  },
  {
   "cell_type": "code",
   "execution_count": 72,
   "metadata": {},
   "outputs": [],
   "source": [
    "def DFS_PreOrder(tree):\n",
    "    visited = []\n",
    "    currNode = tree.root\n",
    "    visit(currNode, visited)\n",
    "    return visited\n",
    "\n",
    "def visit(node, visited):\n",
    "    if node.left:\n",
    "        visit(node.left, visited)\n",
    "    if node.right:\n",
    "        visit(node.right, visited)\n",
    "    visited.append(node.val)"
   ]
  },
  {
   "cell_type": "code",
   "execution_count": 73,
   "metadata": {},
   "outputs": [
    {
     "name": "stdout",
     "output_type": "stream",
     "text": [
      "[4, 8, 6, 15, 12, 10]\n",
      "[8, 9, 11, 10]\n"
     ]
    }
   ],
   "source": [
    "print(DFS_PreOrder(tree1)) # [ 4, 8, 6, 15, 12, 10]\n",
    "print(DFS_PreOrder(tree2)) # [ 8, 9, 11, 10]"
   ]
  }
 ],
 "metadata": {
  "kernelspec": {
   "display_name": "Python 3",
   "language": "python",
   "name": "python3"
  },
  "language_info": {
   "codemirror_mode": {
    "name": "ipython",
    "version": 3
   },
   "file_extension": ".py",
   "mimetype": "text/x-python",
   "name": "python",
   "nbconvert_exporter": "python",
   "pygments_lexer": "ipython3",
   "version": "3.7.4"
  }
 },
 "nbformat": 4,
 "nbformat_minor": 2
}
