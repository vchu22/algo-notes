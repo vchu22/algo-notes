{
 "cells": [
  {
   "cell_type": "markdown",
   "metadata": {},
   "source": [
    "## Insertion Sort\n",
    "1. Pick the leftmost item\n",
    "2. Compare the current item with the items to its left\n",
    "3. If current item is less than any of its left items, keep swapping until it's in the right place\n",
    "4. Repeat Step 1-3 for the 2nd leftmost to the last items\n",
    "\n",
    "Time complexity: O(n<sup>2</sup>)"
   ]
  },
  {
   "cell_type": "code",
   "execution_count": 12,
   "metadata": {},
   "outputs": [
    {
     "name": "stdout",
     "output_type": "stream",
     "text": [
      "[1, 2, 2, 4, 5, 9, 12, 10]\n",
      "[-5, -1, 0, 8, 12]\n"
     ]
    }
   ],
   "source": [
    "def insertion_sort(arr):\n",
    "    for i in range(0,len(arr) - 1):\n",
    "        j = i\n",
    "        while j>0 and arr[j-1]>arr[j]:\n",
    "            temp = arr[j]\n",
    "            arr[j] = arr[j-1]\n",
    "            arr[j-1] = temp\n",
    "            j = j-1\n",
    "    return arr\n",
    "\n",
    "print(insertion_sort([1,9,2,5,2,4,12,10]))\n",
    "print(insertion_sort([-1,0,-5,8,12]))"
   ]
  },
  {
   "cell_type": "markdown",
   "metadata": {},
   "source": [
    "## Mergesort\n",
    "1. Break a list into half in each iteration until each list length == 1\n",
    "2. Merge elements into sorted pairs until the list is in order\n",
    "\n",
    "Space complexity: O(n)\n",
    "\n",
    "Time complexity: O(n log n)"
   ]
  },
  {
   "cell_type": "code",
   "execution_count": null,
   "metadata": {},
   "outputs": [],
   "source": []
  },
  {
   "cell_type": "markdown",
   "metadata": {},
   "source": [
    "## Quick Sort\n",
    "A comparison-based algorithm which uses divide and conquer strategy\n",
    "\n",
    "1. Choose a pivot point\n",
    "2. Move all the elements smaller than the pivot to the left of the pivot and move all elements greater than the pivot to the right\n",
    "\n",
    "Time complexity: O(n log n)"
   ]
  },
  {
   "cell_type": "code",
   "execution_count": null,
   "metadata": {},
   "outputs": [],
   "source": []
  }
 ],
 "metadata": {
  "kernelspec": {
   "display_name": "Python 3",
   "language": "python",
   "name": "python3"
  },
  "language_info": {
   "codemirror_mode": {
    "name": "ipython",
    "version": 3
   },
   "file_extension": ".py",
   "mimetype": "text/x-python",
   "name": "python",
   "nbconvert_exporter": "python",
   "pygments_lexer": "ipython3",
   "version": "3.7.3"
  }
 },
 "nbformat": 4,
 "nbformat_minor": 2
}
