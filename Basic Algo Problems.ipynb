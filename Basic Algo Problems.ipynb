{
 "cells": [
  {
   "cell_type": "markdown",
   "metadata": {},
   "source": [
    "1. Given a list of numbers, return the second largest number in the array. The function should not mutate the original array."
   ]
  },
  {
   "cell_type": "code",
   "execution_count": 3,
   "metadata": {
    "scrolled": true
   },
   "outputs": [
    {
     "name": "stdout",
     "output_type": "stream",
     "text": [
      "[-3, 4.0, -8, 1, 3, 7]\n",
      "[-8, -3, 1, 3, 4.0, 7]\n",
      "4.0\n",
      "[-990009, -800, 0, 0, 2, 1, 1]\n",
      "[-990009, -800, 0, 0, 1, 1, 2]\n",
      "1\n"
     ]
    }
   ],
   "source": [
    "def second_largest(arr):\n",
    "    if (len(arr) == 0):\n",
    "        return None\n",
    "    elif (len(arr) == 1):\n",
    "        return arr[0]\n",
    "    sorted_arr = arr.copy()\n",
    "    sorted_arr.sort()\n",
    "    print(arr)\n",
    "    print(sorted_arr)\n",
    "    return sorted_arr[len(arr) - 2]\n",
    "\n",
    "# tests\n",
    "arr1 = [-3,4.0,-8,1,3,7]\n",
    "print(second_largest(arr1))\n",
    "arr2 = [-990009,-800,0,0,2,1,1]\n",
    "print(second_largest(arr2))"
   ]
  },
  {
   "cell_type": "markdown",
   "metadata": {},
   "source": [
    "2. Given an **unsorted** array A of size N of **non-negative integers**, find a continuous sub-array (inclusive of beginning and end indices) which adds to a given number S.\n",
    "link: https://practice.geeksforgeeks.org/problems/subarray-with-given-sum/0"
   ]
  },
  {
   "cell_type": "code",
   "execution_count": 7,
   "metadata": {},
   "outputs": [],
   "source": [
    "# brute force\n",
    "def findSubArr(A,S):\n",
    "    N = len(A)\n",
    "    for startIdx in range(N):\n",
    "        subArrSum = 0\n",
    "        for endIdx in range(startIdx,N):\n",
    "            subArrSum += A[endIdx]\n",
    "            if (subArrSum == S):\n",
    "                return [startIdx, endIdx]\n",
    "    return None"
   ]
  },
  {
   "cell_type": "code",
   "execution_count": 2,
   "metadata": {},
   "outputs": [],
   "source": [
    "# O(n) approach\n",
    "def findSubArr(A,S):\n",
    "    if (len(A) == 1):\n",
    "        return (None, [0,0])[A[0] == S]\n",
    "    curr_sum = A[0]\n",
    "    firstIdx = 0\n",
    "    for i in range(1, len(A)):\n",
    "        while (curr_sum > S and firstIdx < i):\n",
    "            curr_sum -= A[firstIdx]\n",
    "            firstIdx += 1\n",
    "        if (curr_sum == S):\n",
    "            return [firstIdx, i-1]\n",
    "        curr_sum += A[i]\n",
    "    return None"
   ]
  },
  {
   "cell_type": "code",
   "execution_count": 4,
   "metadata": {},
   "outputs": [
    {
     "name": "stdout",
     "output_type": "stream",
     "text": [
      "[1, 3]\n",
      "[0, 4]\n",
      "[0, 0]\n",
      "None\n",
      "[0, 0]\n",
      "None\n"
     ]
    }
   ],
   "source": [
    "#tests\n",
    "arr1=[1, 2, 3, 7, 5]\n",
    "print(findSubArr(arr1, 12))          # [1,3] because 2+3+7=12\n",
    "arr2=[1, 2, 3, 4, 5, 6, 7, 8, 9, 10]\n",
    "print(findSubArr(arr2, 15))          # [0,4] because 1+2+3+4+5=15\n",
    "print(findSubArr(arr2, 1))           # [0,0] because only A[0] equals to 1\n",
    "print(findSubArr(arr2, -133))        # None because none of the continuous sub-arrays add up to -133\n",
    "arr3=[9]\n",
    "print(findSubArr(arr3, 9))\n",
    "print(findSubArr(arr3, 0))"
   ]
  }
 ],
 "metadata": {
  "kernelspec": {
   "display_name": "Python 3",
   "language": "python",
   "name": "python3"
  },
  "language_info": {
   "codemirror_mode": {
    "name": "ipython",
    "version": 3
   },
   "file_extension": ".py",
   "mimetype": "text/x-python",
   "name": "python",
   "nbconvert_exporter": "python",
   "pygments_lexer": "ipython3",
   "version": "3.7.4"
  }
 },
 "nbformat": 4,
 "nbformat_minor": 2
}
