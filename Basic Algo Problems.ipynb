{
 "cells": [
  {
   "cell_type": "markdown",
   "metadata": {},
   "source": [
    "Given a list of numbers, return the second largest number in the array. The function should not mutate the original array."
   ]
  },
  {
   "cell_type": "code",
   "execution_count": 41,
   "metadata": {
    "scrolled": true
   },
   "outputs": [
    {
     "name": "stdout",
     "output_type": "stream",
     "text": [
      "[-3, 4.0, -8, 1, 3, 7]\n",
      "[-8, -3, 1, 3, 4.0, 7]\n"
     ]
    },
    {
     "data": {
      "text/plain": [
       "4.0"
      ]
     },
     "execution_count": 41,
     "metadata": {},
     "output_type": "execute_result"
    }
   ],
   "source": [
    "def second_largest(arr):\n",
    "    if (len(arr) == 0):\n",
    "        return None\n",
    "    elif (len(arr) == 1):\n",
    "        return arr[0]\n",
    "    sorted_arr = arr.copy()\n",
    "    sorted_arr.sort()\n",
    "    print(arr)\n",
    "    print(sorted_arr)\n",
    "    return sorted_arr[len(arr) - 2]\n",
    "\n",
    "arr1 = [-3,4.0,-8,1,3,7]\n",
    "second_largest(arr1)"
   ]
  }
 ],
 "metadata": {
  "kernelspec": {
   "display_name": "Python 3",
   "language": "python",
   "name": "python3"
  },
  "language_info": {
   "codemirror_mode": {
    "name": "ipython",
    "version": 3
   },
   "file_extension": ".py",
   "mimetype": "text/x-python",
   "name": "python",
   "nbconvert_exporter": "python",
   "pygments_lexer": "ipython3",
   "version": "3.7.3"
  }
 },
 "nbformat": 4,
 "nbformat_minor": 2
}
