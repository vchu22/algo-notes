{
 "cells": [
  {
   "cell_type": "markdown",
   "metadata": {},
   "source": [
    "1. Suppose we have an input of all the meetings we need to schedule, write a function `findMinNumOfRooms` that returns the minimum number of rooms needed to hold all the meetings.\n",
    "\n",
    "    a. Start with the simplest inputs, which the start and end times only contains numbers representing the hour in a day without the day of a week information. Example:\n",
    "        Input: meetings = [{start: 9, end: 11}, {start: 10, end: 12}, {start: 13, end: 15}]\n",
    "        Output: 2\n",
    "        Explanation: The only time periods that has overlap each other are {start: 9, end: 11} and {start: 10, end: 12}"
   ]
  },
  {
   "cell_type": "code",
   "execution_count": 2,
   "metadata": {},
   "outputs": [],
   "source": [
    "# O(n^2) solution\n",
    "def findMinNumOfRooms(meetings):\n",
    "    overlappedSections = 1\n",
    "    for i in range(len(meetings)):\n",
    "        currTimeframe = (meetings[i][\"start\"], meetings[i][\"end\"])\n",
    "        for j in range(0, i):\n",
    "            prevTimeframe = (meetings[j][\"start\"], meetings[j][\"end\"])\n",
    "            if inRange(prevTimeframe[0], prevTimeframe[1], currTimeframe[0], currTimeframe[1]):\n",
    "                overlappedSections += 1\n",
    "                break\n",
    "    return overlappedSections\n",
    "\n",
    "def inRange(xStart, xEnd, yStart, yEnd):\n",
    "    if yStart >= xStart and yStart < xEnd:\n",
    "        return True\n",
    "    if yEnd >= xStart and yEnd < xEnd:\n",
    "        return True\n",
    "    return False"
   ]
  },
  {
   "cell_type": "code",
   "execution_count": 3,
   "metadata": {},
   "outputs": [
    {
     "name": "stdout",
     "output_type": "stream",
     "text": [
      "1\n",
      "1\n",
      "2\n",
      "3\n",
      "3\n",
      "4\n"
     ]
    }
   ],
   "source": [
    "# tests\n",
    "print(findMinNumOfRooms([{\"start\": 1, \"end\": 2}, {\"start\": 3, \"end\": 4}, {\"start\": 5, \"end\": 6}])) # 1\n",
    "print(findMinNumOfRooms([{\"start\": 1, \"end\": 2}, {\"start\": 2, \"end\": 3}, {\"start\": 3, \"end\": 4}])) # 1\n",
    "print(findMinNumOfRooms([{\"start\": 9, \"end\": 11}, {\"start\": 10, \"end\": 12}, {\"start\": 13, \"end\": 15}])) # 2\n",
    "print(findMinNumOfRooms([{\"start\": 9, \"end\": 11}, {\"start\": 9, \"end\": 10}, {\"start\": 10, \"end\": 12}])) # 3\n",
    "print(findMinNumOfRooms([{\"start\": 1, \"end\": 5}, {\"start\": 2, \"end\": 3}, {\"start\": 8, \"end\": 9}, {\"start\": 2, \"end\": 3}])) # 3\n",
    "print(findMinNumOfRooms([{\"start\": 2, \"end\": 3}, {\"start\": 2, \"end\": 3}, {\"start\": 2, \"end\": 3}, {\"start\": 2, \"end\": 3}])) # 4"
   ]
  },
  {
   "cell_type": "markdown",
   "metadata": {},
   "source": [
    "Given a string S, the binary representation of a decimal number V, write a function that finds the minimum amount of steps required to get to 0 given the following operations for each step:\n",
    "1. If the number is odd, subtract it by 1\n",
    "2. If the number is even, divide it by 2\n",
    "\n",
    "Example:\n",
    "S = \"011100\", V = 28\n",
    "\n",
    "Steps:\n",
    "1. 28 is even, dividing by 2 gets 14\n",
    "2. 14 is even, diviving by 2 gets 7\n",
    "3. 7 is odd, subtracting 1 gets 6\n",
    "4. 6 is even, dividing by 2 gets 3\n",
    "5. 3 is odd, subtracting 1 gets 2\n",
    "6. 2 is even, dividing by 2 gets 1\n",
    "7. 1 is odd, subtracting 1 gets 0"
   ]
  },
  {
   "cell_type": "code",
   "execution_count": 6,
   "metadata": {},
   "outputs": [],
   "source": [
    "def solution(S):\n",
    "    # convert S to V\n",
    "    V = int(S, 2)\n",
    "    numOfSteps = 0\n",
    "    while V != 0:\n",
    "        if V % 2 == 1:\n",
    "            V -= 1\n",
    "        else:\n",
    "            V /= 2\n",
    "        numOfSteps += 1\n",
    "    return numOfSteps"
   ]
  },
  {
   "cell_type": "code",
   "execution_count": 17,
   "metadata": {},
   "outputs": [
    {
     "name": "stdout",
     "output_type": "stream",
     "text": [
      "7\n",
      "2\n",
      "7\n",
      "20\n",
      "12\n"
     ]
    }
   ],
   "source": [
    "print(solution('011100')) # 7\n",
    "print(solution('10')) # 2\n",
    "print(solution('100100')) # 7\n",
    "print(solution('11111101111')) #20\n",
    "print(solution('00001101111')) "
   ]
  }
 ],
 "metadata": {
  "kernelspec": {
   "display_name": "Python 3",
   "language": "python",
   "name": "python3"
  },
  "language_info": {
   "codemirror_mode": {
    "name": "ipython",
    "version": 3
   },
   "file_extension": ".py",
   "mimetype": "text/x-python",
   "name": "python",
   "nbconvert_exporter": "python",
   "pygments_lexer": "ipython3",
   "version": "3.7.6"
  }
 },
 "nbformat": 4,
 "nbformat_minor": 2
}
