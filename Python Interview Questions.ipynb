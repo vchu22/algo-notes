{
 "cells": [
  {
   "cell_type": "markdown",
   "metadata": {},
   "source": [
    "1. Suppose we have an input of all the meetings we need to schedule, write a function `findMinNumOfRooms` that returns the minimum number of rooms needed to hold all the meetings.\n",
    "\n",
    "    a. Start with the simplest inputs, which the start and end times only contains number representing the hour in a day without the day of a week information. Example:\n",
    "        Input: meetings = [{start: 9, end: 11}, {start: 10, end: 12}, {start: 13, end: 15}]\n",
    "        Output: 2\n",
    "        Explanation: The only time periods that has overlap each other are {start: 9, end: 11} and {start: 10, end: 12}"
   ]
  },
  {
   "cell_type": "code",
   "execution_count": null,
   "metadata": {},
   "outputs": [],
   "source": [
    "# O(n^2) solution\n",
    "def findMinNumOfRooms(meetings):\n",
    "    overlapedSections = 1\n",
    "    for i in range(len(meetings)):\n",
    "        currTimeframe = (meetings[i][\"start\"], meetings[i][\"end\"])\n",
    "        for j in range(0, i):\n",
    "            prevTimeframe = (meetings[j][\"start\"], meetings[j][\"end\"])\n",
    "            if inRange(prevTimeframe[0], prevTimeframe[1], currTimeframe[0], currTimeframe[1]):\n",
    "                overlapedSections += 1\n",
    "                break\n",
    "    return overlapedSections\n",
    "\n",
    "def inRange(xStart, xEnd, yStart, yEnd):\n",
    "    if yStart >= xStart and yStart < xEnd:\n",
    "        return True\n",
    "    if yEnd >= xStart and yEnd < xEnd:\n",
    "        return True\n",
    "    return False"
   ]
  },
  {
   "cell_type": "code",
   "execution_count": null,
   "metadata": {},
   "outputs": [],
   "source": [
    "# tests\n",
    "print(findMinNumOfRooms([{\"start\": 1, \"end\": 2}, {\"start\": 3, \"end\": 4}, {\"start\": 5, \"end\": 6}])) # 1\n",
    "print(findMinNumOfRooms([{\"start\": 1, \"end\": 2}, {\"start\": 2, \"end\": 3}, {\"start\": 3, \"end\": 4}])) # 1\n",
    "print(findMinNumOfRooms([{\"start\": 9, \"end\": 11}, {\"start\": 10, \"end\": 12}, {\"start\": 13, \"end\": 15}])) # 2\n",
    "print(findMinNumOfRooms([{\"start\": 9, \"end\": 11}, {\"start\": 9, \"end\": 10}, {\"start\": 10, \"end\": 12}])) # 3\n",
    "print(findMinNumOfRooms([{\"start\": 1, \"end\": 5}, {\"start\": 2, \"end\": 3}, {\"start\": 8, \"end\": 9}, {\"start\": 2, \"end\": 3}])) # 3\n",
    "print(findMinNumOfRooms([{\"start\": 2, \"end\": 3}, {\"start\": 2, \"end\": 3}, {\"start\": 2, \"end\": 3}, {\"start\": 2, \"end\": 3}])) # 4"
   ]
  }
 ],
 "metadata": {
  "kernelspec": {
   "display_name": "Python 3",
   "language": "python",
   "name": "python3"
  },
  "language_info": {
   "codemirror_mode": {
    "name": "ipython",
    "version": 3
   },
   "file_extension": ".py",
   "mimetype": "text/x-python",
   "name": "python",
   "nbconvert_exporter": "python",
   "pygments_lexer": "ipython3",
   "version": "3.7.4"
  }
 },
 "nbformat": 4,
 "nbformat_minor": 2
}
