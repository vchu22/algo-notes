{
 "cells": [
  {
   "cell_type": "markdown",
   "metadata": {},
   "source": [
    "1. Suppose we have an input of all the meetings we need to schedule, write a function `findMinNumOfRooms` that returns the minimum number of rooms needed to hold all the meetings.\n",
    "\n",
    "    a. Start with the simplest inputs, which the start and end times only contains number representing the hour in a day without the day of a week information. Example:\n",
    "        Input: meetings = [{start: 9, end: 11}, {start: 10, end: 12}, {start: 13, end: 15}]\n",
    "        Output: 2\n",
    "        Explanation: The only time periods that has overlap each other are {start: 9, end: 11} and {start: 10, end: 12}"
   ]
  },
  {
   "cell_type": "code",
   "execution_count": 1,
   "metadata": {},
   "outputs": [],
   "source": [
    "def findMinNumOfRooms(meetings):\n",
    "    pass"
   ]
  },
  {
   "cell_type": "code",
   "execution_count": 5,
   "metadata": {},
   "outputs": [
    {
     "name": "stdout",
     "output_type": "stream",
     "text": [
      "None\n",
      "None\n",
      "None\n",
      "None\n"
     ]
    }
   ],
   "source": [
    "# tests\n",
    "print(findMinNumOfRooms([{\"start\": 1, \"end\": 2}, {\"start\": 3, \"end\": 4}, {\"start\": 5, \"end\": 6}])) # 1\n",
    "print(findMinNumOfRooms([{\"start\": 1, \"end\": 2}, {\"start\": 2, \"end\": 3}, {\"start\": 3, \"end\": 4}])) # 1\n",
    "print(findMinNumOfRooms([{\"start\": 9, \"end\": 11}, {\"start\": 10, \"end\": 12}, {\"start\": 13, \"end\": 15}])) # 2\n",
    "print(findMinNumOfRooms([{\"start\": 9, \"end\": 11}, {\"start\": 9, \"end\": 10}, {\"start\": 10, \"end\": 12}])) # 3"
   ]
  }
 ],
 "metadata": {
  "kernelspec": {
   "display_name": "Python 3",
   "language": "python",
   "name": "python3"
  },
  "language_info": {
   "codemirror_mode": {
    "name": "ipython",
    "version": 3
   },
   "file_extension": ".py",
   "mimetype": "text/x-python",
   "name": "python",
   "nbconvert_exporter": "python",
   "pygments_lexer": "ipython3",
   "version": "3.7.4"
  }
 },
 "nbformat": 4,
 "nbformat_minor": 2
}
